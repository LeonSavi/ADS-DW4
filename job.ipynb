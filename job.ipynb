{
 "cells": [
  {
   "cell_type": "code",
   "execution_count": 1,
   "id": "55aba5b8",
   "metadata": {},
   "outputs": [],
   "source": [
    "import pandas as pd\n",
    "\n",
    "df = pd.read_csv('dataset/imdb_text2vec.csv')"
   ]
  },
  {
   "cell_type": "code",
   "execution_count": null,
   "id": "e49f8a9b",
   "metadata": {},
   "outputs": [
    {
     "data": {
      "application/vnd.microsoft.datawrangler.viewer.v0+json": {
       "columns": [
        {
         "name": "index",
         "rawType": "int64",
         "type": "integer"
        },
        {
         "name": "id",
         "rawType": "object",
         "type": "string"
        },
        {
         "name": "sentiment",
         "rawType": "int64",
         "type": "integer"
        },
        {
         "name": "review",
         "rawType": "object",
         "type": "string"
        }
       ],
       "ref": "b1b809f0-5d57-4ce0-a2f3-0a274fcc8b53",
       "rows": [
        [
         "0",
         "5814_8",
         "1",
         "With all this stuff going down at the moment with MJ i've started listening to his music, watching the odd documentary here and there, watched The Wiz and watched Moonwalker again. Maybe i just want to get a certain insight into this guy who i thought was really cool in the eighties just to maybe make up my mind whether he is guilty or innocent. Moonwalker is part biography, part feature film which i remember going to see at the cinema when it was originally released. Some of it has subtle messages about MJ's feeling towards the press and also the obvious message of drugs are bad m'kay.<br /><br />Visually impressive but of course this is all about Michael Jackson so unless you remotely like MJ in anyway then you are going to hate this and find it boring. Some may call MJ an egotist for consenting to the making of this movie BUT MJ and most of his fans would say that he made it for the fans which if true is really nice of him.<br /><br />The actual feature film bit when it finally starts is only on for 20 minutes or so excluding the Smooth Criminal sequence and Joe Pesci is convincing as a psychopathic all powerful drug lord. Why he wants MJ dead so bad is beyond me. Because MJ overheard his plans? Nah, Joe Pesci's character ranted that he wanted people to know it is he who is supplying drugs etc so i dunno, maybe he just hates MJ's music.<br /><br />Lots of cool things in this like MJ turning into a car and a robot and the whole Speed Demon sequence. Also, the director must have had the patience of a saint when it came to filming the kiddy Bad sequence as usually directors hate working with one kid let alone a whole bunch of them performing a complex dance scene.<br /><br />Bottom line, this movie is for people who like MJ on one level or another (which i think is most people). If not, then stay away. It does try and give off a wholesome message and ironically MJ's bestest buddy in this movie is a girl! Michael Jackson is truly one of the most talented people ever to grace this planet but is he guilty? Well, with all the attention i've gave this subject....hmmm well i don't know because people can be different behind closed doors, i know this for a fact. He is either an extremely nice but stupid guy or one of the most sickest liars. I hope he is not the latter."
        ],
        [
         "1",
         "2381_9",
         "1",
         "\\\"The Classic War of the Worlds\\\" by Timothy Hines is a very entertaining film that obviously goes to great effort and lengths to faithfully recreate H. G. Wells' classic book. Mr. Hines succeeds in doing so. I, and those who watched his film with me, appreciated the fact that it was not the standard, predictable Hollywood fare that comes out every year, e.g. the Spielberg version with Tom Cruise that had only the slightest resemblance to the book. Obviously, everyone looks for different things in a movie. Those who envision themselves as amateur \\\"critics\\\" look only to criticize everything they can. Others rate a movie on more important bases,like being entertained, which is why most people never agree with the \\\"critics\\\". We enjoyed the effort Mr. Hines put into being faithful to H.G. Wells' classic novel, and we found it to be very entertaining. This made it easy to overlook what the \\\"critics\\\" perceive to be its shortcomings."
        ],
        [
         "2",
         "7759_3",
         "0",
         "The film starts with a manager (Nicholas Bell) giving welcome investors (Robert Carradine) to Primal Park . A secret project mutating a primal animal using fossilized DNA, like Jurassik Park, and some scientists resurrect one of nature's most fearsome predators, the Sabretooth tiger or Smilodon . Scientific ambition turns deadly, however, and when the high voltage fence is opened the creature escape and begins savagely stalking its prey - the human visitors , tourists and scientific.Meanwhile some youngsters enter in the restricted area of the security center and are attacked by a pack of large pre-historical animals which are deadlier and bigger . In addition , a security agent (Stacy Haiduk) and her mate (Brian Wimmer) fight hardly against the carnivorous Smilodons. The Sabretooths, themselves , of course, are the real star stars and they are astounding terrifyingly though not convincing. The giant animals savagely are stalking its prey and the group run afoul and fight against one nature's most fearsome predators. Furthermore a third Sabretooth more dangerous and slow stalks its victims.<br /><br />The movie delivers the goods with lots of blood and gore as beheading, hair-raising chills,full of scares when the Sabretooths appear with mediocre special effects.The story provides exciting and stirring entertainment but it results to be quite boring .The giant animals are majority made by computer generator and seem totally lousy .Middling performances though the players reacting appropriately to becoming food.Actors give vigorously physical performances dodging the beasts ,running,bound and leaps or dangling over walls . And it packs a ridiculous final deadly scene. No for small kids by realistic,gory and violent attack scenes . Other films about Sabretooths or Smilodon are the following : Sabretooth(2002)by James R Hickox with Vanessa Angel, David Keith and John Rhys Davies and the much better 10.000 BC(2006) by Roland Emmerich with with Steven Strait, Cliff Curtis and Camilla Belle. This motion picture filled with bloody moments is badly directed by George Miller and with no originality because takes too many elements from previous films. Miller is an Australian director usually working for television (Tidal wave, Journey to the center of the earth, and many others) and occasionally for cinema ( The man from Snowy river, Zeus and Roxanne,Robinson Crusoe ). Rating : Below average, bottom of barrel."
        ],
        [
         "3",
         "3630_4",
         "0",
         "It must be assumed that those who praised this film (\\\"the greatest filmed opera ever,\\\" didn't I read somewhere?) either don't care for opera, don't care for Wagner, or don't care about anything except their desire to appear Cultured. Either as a representation of Wagner's swan-song, or as a movie, this strikes me as an unmitigated disaster, with a leaden reading of the score matched to a tricksy, lugubrious realisation of the text.<br /><br />It's questionable that people with ideas as to what an opera (or, for that matter, a play, especially one by Shakespeare) is \\\"about\\\" should be allowed anywhere near a theatre or film studio; Syberberg, very fashionably, but without the smallest justification from Wagner's text, decided that Parsifal is \\\"about\\\" bisexual integration, so that the title character, in the latter stages, transmutes into a kind of beatnik babe, though one who continues to sing high tenor -- few if any of the actors in the film are the singers, and we get a double dose of Armin Jordan, the conductor, who is seen as the face (but not heard as the voice) of Amfortas, and also appears monstrously in double exposure as a kind of Batonzilla or Conductor Who Ate Monsalvat during the playing of the Good Friday music -- in which, by the way, the transcendant loveliness of nature is represented by a scattering of shopworn and flaccid crocuses stuck in ill-laid turf, an expedient which baffles me. In the theatre we sometimes have to piece out such imperfections with our thoughts, but I can't think why Syberberg couldn't splice in, for Parsifal and Gurnemanz, mountain pasture as lush as was provided for Julie Andrews in Sound of Music...<br /><br />The sound is hard to endure, the high voices and the trumpets in particular possessing an aural glare that adds another sort of fatigue to our impatience with the uninspired conducting and paralytic unfolding of the ritual. Someone in another review mentioned the 1951 Bayreuth recording, and Knappertsbusch, though his tempi are often very slow, had what Jordan altogether lacks, a sense of pulse, a feeling for the ebb and flow of the music -- and, after half a century, the orchestral sound in that set, in modern pressings, is still superior to this film."
        ],
        [
         "4",
         "9495_8",
         "1",
         "Superbly trashy and wondrously unpretentious 80's exploitation, hooray! The pre-credits opening sequences somewhat give the false impression that we're dealing with a serious and harrowing drama, but you need not fear because barely ten minutes later we're up until our necks in nonsensical chainsaw battles, rough fist-fights, lurid dialogs and gratuitous nudity! Bo and Ingrid are two orphaned siblings with an unusually close and even slightly perverted relationship. Can you imagine playfully ripping off the towel that covers your sister's naked body and then stare at her unshaven genitals for several whole minutes? Well, Bo does that to his sister and, judging by her dubbed laughter, she doesn't mind at all. Sick, dude! Anyway, as kids they fled from Russia with their parents, but nasty soldiers brutally slaughtered mommy and daddy. A friendly smuggler took custody over them, however, and even raised and trained Bo and Ingrid into expert smugglers. When the actual plot lifts off, 20 years later, they're facing their ultimate quest as the mythical and incredibly valuable White Fire diamond is coincidentally found in a mine. Very few things in life ever made as little sense as the plot and narrative structure of \\\"White Fire\\\", but it sure is a lot of fun to watch. Most of the time you have no clue who's beating up who or for what cause (and I bet the actors understood even less) but whatever! The violence is magnificently grotesque and every single plot twist is pleasingly retarded. The script goes totally bonkers beyond repair when suddenly  and I won't reveal for what reason  Bo needs a replacement for Ingrid and Fred Williamson enters the scene with a big cigar in his mouth and his sleazy black fingers all over the local prostitutes. Bo's principal opponent is an Italian chick with big breasts but a hideous accent, the preposterous but catchy theme song plays at least a dozen times throughout the film, there's the obligatory \\\"we're-falling-in-love\\\" montage and loads of other attractions! My God, what a brilliant experience. The original French title translates itself as \\\"Life to Survive\\\", which is uniquely appropriate because it makes just as much sense as the rest of the movie: None!"
        ],
        [
         "5",
         "8196_8",
         "1",
         "I dont know why people think this is such a bad movie. Its got a pretty good plot, some good action, and the change of location for Harry does not hurt either. Sure some of its offensive and gratuitous but this is not the only movie like that. Eastwood is in good form as Dirty Harry, and I liked Pat Hingle in this movie as the small town cop. If you liked DIRTY HARRY, then you should see this one, its a lot better than THE DEAD POOL. 4/5"
        ],
        [
         "6",
         "7166_2",
         "0",
         "This movie could have been very good, but comes up way short. Cheesy special effects and so-so acting. I could have looked past that if the story wasn't so lousy. If there was more of a background story, it would have been better. The plot centers around an evil Druid witch who is linked to this woman who gets migraines. The movie drags on and on and never clearly explains anything, it just keeps plodding on. Christopher Walken has a part, but it is completely senseless, as is most of the movie. This movie had potential, but it looks like some really bad made for TV movie. I would avoid this movie."
        ],
        [
         "7",
         "10633_1",
         "0",
         "I watched this video at a friend's house. I'm glad I did not waste money buying this one. The video cover has a scene from the 1975 movie Capricorn One. The movie starts out with several clips of rocket blow-ups, most not related to manned flight. Sibrel's smoking gun is a short video clip of the astronauts preparing a video broadcast. He edits in his own voice-over instead of letting us listen to what the crew had to say. The video curiously ends with a showing of the Zapruder film. His claims about radiation, shielding, star photography, and others lead me to believe is he extremely ignorant or has some sort of ax to grind against NASA, the astronauts, or American in general. His science is bad, and so is this video."
        ],
        [
         "8",
         "319_1",
         "0",
         "A friend of mine bought this film for 1, and even then it was grossly overpriced. Despite featuring big names such as Adam Sandler, Billy Bob Thornton and the incredibly talented Burt Young, this film was about as funny as taking a chisel and hammering it straight through your earhole. It uses tired, bottom of the barrel comedic techniques - consistently breaking the fourth wall as Sandler talks to the audience, and seemingly pointless montages of 'hot girls'.<br /><br />Adam Sandler plays a waiter on a cruise ship who wants to make it as a successful comedian in order to become successful with women. When the ship's resident comedian - the shamelessly named 'Dickie' due to his unfathomable success with the opposite gender - is presumed lost at sea, Sandler's character Shecker gets his big break. Dickie is not dead, he's rather locked in the bathroom, presumably sea sick.<br /><br />Perhaps from his mouth he just vomited the worst film of all time."
        ],
        [
         "9",
         "8713_10",
         "1",
         "<br /><br />This movie is full of references. Like \\\"Mad Max II\\\", \\\"The wild one\\\" and many others. The ladybugs face its a clear reference (or tribute) to Peter Lorre. This movie is a masterpiece. Well talk much more about in the future."
        ],
        [
         "10",
         "2486_3",
         "0",
         "What happens when an army of wetbacks, towelheads, and Godless Eastern European commies gather their forces south of the border? Gary Busey kicks their butts, of course. Another laughable example of Reagan-era cultural fallout, Bulletproof wastes a decent supporting cast headed by L Q Jones and Thalmus Rasulala."
        ],
        [
         "11",
         "6811_10",
         "1",
         "Although I generally do not like remakes believing that remakes are waste of time; this film is an exception. I didn't actually know so far until reading the previous comment that this was a remake, so my opinion is purely about the actual film and not a comparison.<br /><br />The story and the way it is written is no question: it is Capote. There is no need for more words.<br /><br />The play of Anthony Edwards and Eric Roberts is superb. I have seen some movies with them, each in one or the other. I was certain that they are good actors and in case of Eric I always wondered why his sister is the number 1 famous star and not her brother. This time this certainty is raised to fact, no question. His play, just as well as the play of Mr. Edwards is clearly the top of all their profession.<br /><br />I recommend this film to be on your top 50 films to see and keep on your DVD shelves."
        ],
        [
         "12",
         "11744_9",
         "1",
         "\\\"Mr. Harvey Lights a Candle\\\" is anchored by a brilliant performance by Timothy Spall.<br /><br />While we can predict that his titular morose, up tight teacher will have some sort of break down or catharsis based on some deep down secret from his past, how his emotions are unveiled is surprising. Spall's range of feelings conveyed is quite moving and more than he usually gets to portray as part of the Mike Leigh repertory.<br /><br />While an expected boring school bus trip has only been used for comic purposes, such as on \\\"The Simpsons,\\\" this central situation of a visit to Salisbury Cathedral in Rhidian Brook's script is well-contained and structured for dramatic purposes, and is almost formally divided into acts.<br /><br />We're introduced to the urban British range of racially and religiously diverse kids (with their uniforms I couldn't tell if this is a \\\"private\\\" or \\\"public\\\" school), as they gather  the rapping black kids, the serious South Asians and Muslims, the white bullies and mean girls  but conveyed quite naturally and individually. The young actors, some of whom I recognized from British TV such as \\\"Shameless,\\\" were exuberant in representing the usual range of junior high social pressures. Celia Imrie puts more warmth into the supervisor's role than the martinets she usually has to play.<br /><br />A break in the trip leads to a transformative crisis for some while others remain amusingly oblivious. We think, like the teacher portrayed by Ben Miles of \\\"Coupling,\\\" that we will be spoon fed a didactic lesson about religious tolerance, but it's much more about faith in people as well as God, which is why the BBC showed it in England at Easter time and BBC America showed it in the U.S. over Christmas.<br /><br />Nathalie Press, who was also so good in \\\"Summer of Love,\\\" has a key role in Mr. Harvey's redemption that could have been played for movie-of-the-week preaching, but is touching as they reach out to each other in an unexpected way (unfortunately I saw their intense scene interrupted by commercials).<br /><br />While it is a bit heavy-handed in several times pointedly calling this road trip \\\"a pilgrimage,\\\" this quiet film was the best evocation of \\\"good will towards men\\\" than I've seen in most holiday-themed TV movies."
        ],
        [
         "13",
         "7369_1",
         "0",
         "I had a feeling that after \\\"Submerged\\\", this one wouldn't be any better... I was right. He must be looking for champagne money, and not care about the final product... his voice gets repeatedly dubbed over by a stranger that sounds nothing like him; the editing is - well - just a grade above amateurish. It's nothing more than a B or C-grade movie with just enough money to hire a couple talented cameramen and an \\\"OK\\\" sound designer.<br /><br />Like the previous poster said, the problems seem to appear in post-production (...voice dubbing, etc.) Too bad, cause the plot's actually OK for a SG flick.<br /><br />I'll never rent another SG flick, unless he emails me asking for forgiveness.<br /><br />Too bad - I miss Kelly LeBrock...<br /><br />--jimbo"
        ],
        [
         "14",
         "12081_1",
         "0",
         "note to George Litman, and others: the Mystery Science Theater 3000 riff is \\\"I don't think so, *breeder*\\\".<br /><br />my favorite riff is \\\"Why were you looking at his 'like'?\\\", simply for the complete absurdity. that, and \\\"Right well did not!\\\" over all, I would say we must give credit to the MST3K crew for trying to ridicule this TV movie. you really can't make much fun of the dialog; Bill S was a good playwright. on the other hand, this production is so bad that even he would disown it. a junior high school drama club could do better.<br /><br />I would recommend that you buy a book and read 'Hamlet'."
        ],
        [
         "15",
         "3561_4",
         "0",
         "Stephen King adaptation (scripted by King himself) in which a young family, newcomers to rural Maine, find out about the pet cemetery close to their home. The father (Dale Midkiff) then finds out about the Micmac burial ground beyond the pet cemetery that has powers of resurrection - only of course anything buried there comes back not quite RIGHT.<br /><br />Below average \\\"horror\\\" picture starts out clumsy, insulting, and inept, and continues that way for a while, with the absolute worst element being Midkiff's worthless performance. It gets a little better toward the end, with genuinely disturbing finale. In point of fact, the whole movie is really disturbing, which is why I can't completely dismiss it - at least it has SOMETHING to make it memorable. Decent supporting performances by Fred Gwynne, as the wise old aged neighbor, and Brad Greenquist, as the disfigured spirit Victor Pascow are not enough to really redeem film.<br /><br />King has his usual cameo as the minister.<br /><br />Followed by a sequel also directed by Mary Lambert (is it any wonder that she's had no mainstream film work since?).<br /><br />4/10"
        ],
        [
         "16",
         "4489_1",
         "0",
         "`The Matrix' was an exciting summer blockbuster that was visually fantastic but also curiously thought provoking in its `Twilight Zone'-ish manner. The general rule applies here- and this sequel doesn't match up to its predecessor. Worse than that, it doesn't even compare with it.<br /><br />`Reloaded' explodes onto the screen in the most un-professional fashion. In the opening few seconds the first impression is a generally good one as Trinity is shot in a dream. Immediately after that, the film nose-dives. After a disastrous first 45 minutes, it gradually gains momentum when they enter the Matrix and the Agent Smith battle takes place. But it loses itself all speed when it reaches the 14-minute car chase sequence and gets even worse at the big groan-worthy twist at the end. Worst of all is the overlong `Zion Rave' scene. Not only does it have absolutely nothing to do with the plot, but it's also a pathetic excuse for porn and depressive dance music.<br /><br />The bullet-time aspect of `The Matrix' was a good addition, but in `'Reloaded' they overuse to make it seem boring. In the first one there were interesting plot turns, but here it is too linear to be remotely interesting. The movie is basically, just a series of stylish diversions that prevent us from realising just how empty it really is. It works on the incorrect principle that bigger is better. It appears that `The Matrix' franchise has quickly descended into the special effects drenched misfire that other franchises such as the `Star Wars' saga have.<br /><br />The acting standard is poor for the most part. The best character of course goes to Hugo Weaving's `Agent Smith'- the only one to be slightly interesting. Keanu Reeves is the definitive Neo, but in all the special effects, there is little room to make much of an impact. Academy Award Nominee Laurence Fishburne is reduced to a monotonous mentor with poor dialogue. Carrie Ann Moss' part as the action chick could have been done much better by any other actress. <br /><br />A poor, thrown-together movie, `The Matrix Reloaded' is a disappointment. Those who didn't like the first one are unlikely to flock to it. This one's for die-hard fans only. Even in the movie's own sub-genre of special effect bonanzas (Minority Report, The Matrix etc.) this is still rather poor. My IMDb rating: 4.5/10."
        ],
        [
         "17",
         "3951_2",
         "0",
         "Ulli Lommel's 1980 film 'The Boogey Man' is no classic, but it's an above average low budget chiller that's worth a look. The sequel, 1983s 'Boogey Man II' is ultimately a waste of time, but at the very least it's an entertaining one if not taken the least bit seriously. Now II left the door open for another sequel, and I for one wouldn't have minded seeing at least one more. One day while I was browsing though the videos at a store in the mall I came across a film entitled 'Return of the Boogey Man.' When I found out it was a sequel to the earlier films I was happy to shell out a few bucks for it...I should have known better. Though the opening title is 'Boogey Man 3,' this is no sequel to those two far superior films I named above. Well, not totally anyway.<br /><br />Pros: Ha! That's a laugh. Is there anything good about this hunk of cow dung? Let's see...it has footage from 'The Boogey Man' and, um...it's mercifully short. Yeah, that's about it.<br /><br />Cons: Where to start? Decisions, decisions. First of all, this movie is a total bore. It goes from one scene to the next without anything remotely interesting or scary happening. The acting is stiff at best. The \\\"actors\\\" are most likely friends of the director who had no acting experience whatsoever before, and probably none since. The plot is nonexistent and script shoddily written. The direction is just plain awful. The director tries to make the film look all artsy fartsy by making the camera move around, lights flicker, and with filters, but it adds nothing. The music is dull and hard to hear in parts. Ties to the original are botched. Suzanna Love's character was named Lacey, not Natalie! And the events depicted in the beginning of the original did not take place in 1978. Also, if this has a 3 in the title, why is there no mention of what happened in II? Finally, this adds nothing new or interesting to either the series or the genre.<br /><br />Final thoughts: The people behind this waste of time and money should be ashamed of themselves. It's one thing if that had been an original film that was the director's first and sucked. But instead it's supposed to be a sequel to film that is no masterpiece, but is damn sure far more interesting and entertaining than this. If there ever is another sequel, which I doubt it, then it needs to forget this one ever happened and be handled either by Lommel himself or someone who has at least some idea of how to make a decent horror film.<br /><br />My rating: 1/5"
        ],
        [
         "18",
         "3304_10",
         "1",
         "This movie is one among the very few Indian movies, that would never fade away with the passage of time, nor would its spell binding appeal ever diminish, even as the Indian cinema transforms into the abyss of artificially styled pop culture while drill oriented extras take to enhancing the P.T. styled film songs.<br /><br />The cinematography speaks of the excellent skills of Josef Werching that accentuate the monumental and cinema scope effect of the film in its entirety.<br /><br />Gone are the days of great cinema, when every scene had to be clipped many times and retakes taken before finalizing it, while meticulous attention was paid in crafting and editing the scenes. Some of its poignant scenes are filled with sublime emotional intensity, like the instance, when Meena Kumari refuses to say \\\"YES\\\" as an approval for Nikah (Marriage Bond) and climbs down the hill while running berserk in traumatized frenzy. At the moment, Raj Kumar follows her, and a strong gale of wind blew away the veil of Kumari and onto the legs of Kumar........<br /><br />Kamal Amrohi shall always be remembered with golden words in the annals of Indian Cinema's history for endeavoring to complete this movie in a record setting 12 years. He had to manage filming of some of the vital songs without Meena's close ups, because Meena Kumari, the lady in the lead role was terminally ill and fighting for her life in early 1971."
        ],
        [
         "19",
         "9352_10",
         "1",
         "Most people, especially young people, may not understand this film. It looks like a story of loss, when it is actually a story about being alone. Some people may never feel loneliness at this level.<br /><br />Cheadles character Johnson reflected the total opposite of Sandlers character Fineman. Where Johnson felt trapped by his blessings, Fineman was trying to forget his life in the same perspective. Jada is a wonderful additive to the cast and Sandler pulls tears. Cheadle had the comic role and was a great supporter for Sandler.<br /><br />I see Oscars somewhere here. A very fine film. If you have ever lost and felt alone, this film will assure you that you're not alone.<br /><br />Jerry"
        ],
        [
         "20",
         "3374_7",
         "1",
         "\\\"Soylent Green\\\" is one of the best and most disturbing science fiction movies of the 70's and still very persuasive even by today's standards. Although flawed and a little dated, the apocalyptic touch and the environmental premise (typical for that time) still feel very unsettling and thought-provoking. This film's quality-level surpasses the majority of contemporary SF flicks because of its strong cast and some intense sequences that I personally consider classic. The New York of 2022 is a depressing place to be alive, with over-population, unemployment, an unhealthy climate and the total scarcity of every vital food product. The only form of food available is synthetic and distributed by the Soylent company. Charlton Heston (in a great shape) plays a cop investigating the murder of one of Soylent's most eminent executives and he stumbles upon scandals and dark secrets... The script is a little over-sentimental at times and the climax doesn't really come as a big surprise, still the atmosphere is very tense and uncanny. The riot-sequence is truly grueling and easily one of the most macabre moments in 70's cinema. Edward G. Robinson is ultimately impressive in his last role and there's a great (but too modest) supportive role for Joseph Cotton (\\\"Baron Blood\\\", \\\"The Abominable Dr. Phibes\\\"). THIS is Science-Fiction in my book: a nightmarish and inevitable fade for humanity! No fancy space-ships with hairy monsters attacking our planet."
        ],
        [
         "21",
         "10782_7",
         "1",
         "Michael Stearns plays Mike, a sexually frustrated individual with an interesting moral attitude towards sexuality. He has no problem ogling naked dancers but when women start having sex with men that's when he loses it. He believes that when women actually have sex that's when they lose any sense of \\\"innocence\\\" and/or \\\"beauty\\\". So he strolls through the Hollywood Hills stalking lovemaking couples at a distance, ultimately shooting the men dead with a high-powered rifle with a scope.<br /><br />The seeming primary reason for this movie's existence is to indulge in sexual activity over and over again. The \\\"story\\\" comes off as more of an afterthought. This is bound to make many a happily heterosexual male quite pleased as we're treated to enough protracted scenes of nudity (the ladies here look awfully good sans clothes) and sex to serve as a major dose of titillation. Of course, seeing a fair deal of it through a scope ups the creepiness factor considerably and illustrates the compulsion towards voyeurism. (For one thing, Mike eyes the couples through the scope for minutes at a time before finally pulling the trigger.) This is all underscored by awfully intrusive if somewhat atmospheric music on the soundtrack.<br /><br />Those with a penchant for lurid trash are bound to enjoy this to one degree or another. It even includes one lesbian tryst that confounds Mike and renders him uncertain *how* to react. It unfolds at a very slow pace, but wraps up with a most amusing ironic twist. It's a kinky and twisted rarity that if nothing else is going to definitely keep some viewers glued to the screen.<br /><br />7/10"
        ],
        [
         "22",
         "5414_10",
         "1",
         "This happy-go-luck 1939 military swashbuckler, based rather loosely on Rudyard Kipling's memorable poem as well as his novel \\\"Soldiers Three,\\\" qualifies as first-rate entertainment about the British Imperial Army in India in the 1880s. Cary Grant delivers more knock-about blows with his knuckled-up fists than he did in all of his movies put together. Set in faraway India, this six-fisted yarn dwells on the exploits of three rugged British sergeants and their native water bearer Gunga Din (Sam Jaffe) who contend with a bloodthirsty cult of murderous Indians called the Thuggee. Sergeant Archibald Cutter (Cary Grant of \\\"The Last Outpost\\\"), Sergeant MacChesney (Oscar-winner Victor McLaglen of \\\"The Informer\\\"), and Sergeant Ballantine (Douglas Fairbanks, Jr. of \\\"The Dawn Patrol\\\"), are a competitive trio of hard-drinking, hard-brawling, and fun-loving Alpha males whose years of frolic are about to become history because Ballantine plans to marry Emmy Stebbins (Joan Fontaine) and enter the tea business. Naturally, Cutter and MacChesney drum up assorted schemes to derail Ballentine's plans. When their superiors order them back into action with Sgt. Bertie Higginbotham (Robert Coote of \\\"The Sheik Steps Out\\\"), Cutter and MacChesney drug Higginbotham so that he cannot accompany them and Ballantine has to replace him. Half of the fun here is watching the principals trying to outwit each other without hating themselves. Director George Stevens celebrates the spirit of adventure in grand style and scope as our heroes tangle with an army of Thuggees. Lenser Joseph H. August received an Oscar nomination for his outstanding black & white cinematography."
        ],
        [
         "23",
         "10492_1",
         "0",
         "I would love to have that two hours of my life back. It seemed to be several clips from Steve's Animal Planet series that was spliced into a loosely constructed script. Don't Go, If you must see it, wait for the video ..."
        ],
        [
         "24",
         "3350_3",
         "0",
         "The script for this movie was probably found in a hair-ball recently coughed up by a really old dog. Mostly an amateur film with lame FX. For you Zeta-Jones fanatics: she has the credibility of one Mr. Binks."
        ],
        [
         "25",
         "6581_7",
         "1",
         "Looking for Quo Vadis at my local video store, I found this 1985 version that looked interesting. Wow! It was amazing! Very much a Ken Russell kind of film -quirky, stylized, very artistic, and of course \\\"different.\\\" Nero was presented not so much as evil incarnate, but as a wacky, unfulfilled emperor who would rather have had a circus career. He probably wondered why on earth he was put in the position of \\\"leading\\\" an empire -it wasn't much fun, and fun is what he longed for. Klause Maria Bandaur had a tremendous time with this role and played it for all it was worth. Yes, Nero persecuted the Christians with a vengeance; one of many who did so. At one point one of his henchmen murmurs: \\\"No one will ever understand we were simply protecting ourselves.\\\" He got that right."
        ],
        [
         "26",
         "2203_3",
         "0",
         "Note to all mad scientists everywhere: if you're going to turn your son into a genetically mutated monster, you need to give him a scarier name than \\\"Paul.\\\" I don't care if he's a frightening hammerhead shark with a mouthful of dagger-sharp teeth and the ability to ambush people in the water as well as on dry land. Give the kid a more worthy name like, \\\"Thor,\\\" \\\"Rock,\\\" or \\\"Tiburon.\\\" Because even if he eats me up I will probably just sit there laughing, \\\"Ha! Get a load of this!!! Paul the Monster is ripping me to shreds!!!!!\\\" That's the worst part about this movie is, this shark-thing is referred to as \\\"Paul\\\" throughout the entire flick. It makes what could have been a decent, scary horror movie just seem silly. Not that there aren't other campy and contrived parts of \\\"Hammerhead: Shark Frenzy.\\\" The scientists spend the entire movie wandering along this island, and all of a sudden one of the girls starts itching madly from walking in the lush forest, and just HAS to pour water on her feet to relive the itching, which of course allows \\\"Paul\\\" to come out of the water and kill her. The one thing SciFI Channel did right in this movie was let the hottie live. But that's a small silver lining in an otherwise disappointing movie."
        ],
        [
         "27",
         "689_1",
         "0",
         "What the ........... is this ? This must, without a doubt, be the biggest waste of film, settings and camera ever. I know you can't set your expectations for an 80's slasher high, but this is too stupid to be true. I baught this film for 0.89$ and I still feel the urge to go claim my money back. Can you imagine who hard it STINKS ?<br /><br />Who is the violent killer in this film and what are his motivations??? Well actually, you couldn't possible care less. And why should you? The makers of this piece of garbage sure didn't care. They didn't try to create a tiny bit of tension. The director ( Stephen Carpenter -- I guess it's much easier to find money with a name like that ) also made the Kindred (1986) wich was rather enjoyable and recently he did Soul Survivors. Complete crap as well, but at least that one had Eliza Dushku. This junk has the debut of Daphne Zuniga !!! ( Who ?? ) Yeah that's right, the Melrose Place chick. Her very memorable character dies about 15 min. after the opening credits. She's the second person to die. The first victim dies directly in the first minute, but nobody seems to mention or miss him afterwards so who cares ? The rest of the actors...they don't deserve the term actors actually, are completely uninteresting. You're hoping they die a quick and painful death...and not only their characters<br /><br />My humble opinion = 0 / 10"
        ],
        [
         "28",
         "9152_1",
         "0",
         "Intrigued by the synopsis (every gay video these days has a hunk on the cover; this is not necessarily to be construed as a good sign) I purchased BEN AND ARTHUR without knowing a thing about it. This is my second (and I assure you it will be my last) purchase of a CULTURE Q CONNECTION video. As far as I am concerned, this DVD is nothing but a blatant rip-off. I do not make this observation lightly  I am a major collector of videos, gay and mainstream, and I can state with some authority and without hesitation that BEN AND ARTHUR is quite simply the worst film I have ever sat through in my life. Period. My collection boasts over 1,600 films (93% on them on DVD) and of those, well over 300 are gay and lesbian themed. I hardly own every gay movie ever made, but I am comfortable in stating that I pretty much purchase almost every gay video of interest that gets released, and very often I buy videos without knowing anything about the film. Sometimes, this makes for a pleasant surprise - Aimee & Jaguar, It's In The Water, Urbania and Normal are all examples of excellent gay titles that I stumbled upon accidentally. So when I read on the box that BEN AND ARTHUR concerned a conflict between gay lovers and the Christian Right, one of my favorite subjects, I decided to take the plunge sight unseen, despite my previously disappointing purchase of another CULTURE Q CONNECTION title, VISIONS OF SUGAR PLUMS. That film was pretty bad, but compared to BEN AND ARTHUR, it viewed like GONE WITH THE WIND. So what was so wrong with BEN AND ARTHUR? Plenty! To begin with, the \\\"plot\\\" such as it was, was totally ridiculous. This film almost made me sympathetic to the Christian Right  we are asked to believe not only that a church would expel a member because his brother is gay, but that a priest would actually set up a mob style execution of a gay couple in order to save their souls (like this even makes sense). The writing is so poor that many scenes make no sense at all, and several plot points reflect no logic, follow-up or connection to the story. Murder and violence seem to be acceptable ends to the gay activist / right wing conflict on both sides, and the acting is so bad that it's difficult to imagine how anybody in this film got hired. The characters who are supposed to be straight are almost without exception clearly gay - and nelly stereotypes to boot; the gay characters are neither sexy nor interesting. This film is enough to put off anybody from buying gay themed videos forever, and the distributors should be ashamed of themselves. The only advantage this picture has over my other CULTURE Q Connection purchase, VISIONS OF SUGARPLAMS, is that this one has a soundtrack with clear dialogue. Hardly a distinction, since the script is so insipid that understanding the script only serves to make you more aware of how bad this film truly is. It is an embarrassment to Queer culture, and I intend to warn everyone I possibly can before they waste their money on it. At $9.95 this film would have been way overpriced; I understand that it's soon to be re-priced under $20, which is STILL highway robbery. I paid the original price of $29.95, and I never felt more cheated in my life. The only true laugh connected with this drivel is the reviews  I have seen \\\"user reviews\\\" for this film on numerous websites, and there is always one or two that \\\"praise\\\" the director / writer / actor in such a way that it's obvious that the reviewer is a friend of this Ed Wood wannabe. How sad. How desperate. I just wish IMDb would allow you to assign zero stars - or even minus zero. If ever a film deserved it, this is it."
        ],
        [
         "29",
         "6077_1",
         "0",
         "Would anyone really watch this RUBBISH if it didn't contain little children running around nude? From a cinematic point of view it is probably one of the worst films I have encountered absolutely dire. Some perv woke up one day and thought I will make a film with little girls in and call it art, stick them in countryside and there isn't any need for a story or explanation of how they got there or why they don't appear to live anywhere or have parents because p*rn films don't need anything like that. I would comment on the rest of the film but I haven't ticked spoilers so I will just say avoid, avoid avoid and find yourself a proper film to watch"
        ],
        [
         "30",
         "4656_4",
         "0",
         "Unremarkable and unmemorable remake of an old, celebrated English film. Although it may be overly maligned as a total disaster (which it is not), it never builds any tension and betrays its TV origins. Richard Burton sleepwalks through his role, and Sophia Loren's closed (in this movie) face doesn't display much passion, either. (**)"
        ],
        [
         "31",
         "9727_7",
         "1",
         "Simon Pegg plays a rude crude and often out of control celebrity journalist who is brought from England to work for a big American magazine. Of course his winning ways create all sorts of complications. Amusing fact based comedy that co stars Kristen Dunst (looking rather grown up), Danny Huston, and Jeff Bridges. It works primarily because we like Simon Pegg despite his bad behavior. We completely understand why Kristen Dunst continues to talk to him despite his frequent screw ups. I liked the film. Its not the be all and end all but it was a nice way to cap off an evening of sitting on the couch watching movies.<br /><br />7 out of 10"
        ],
        [
         "32",
         "1297_8",
         "1",
         "Faithful adaptation of witty and interesting French novel about a cynical and depressed middle-aged software engineer (or something), relying heavily on first-person narration but none the worse for that. Downbeat (in a petit-bourgeois sort of way), philosophical and blackly humorous, the best way I could describe both the film and the novel is that it is something like a more intellectual Charles Bukowski (no disrespect to CB intended). Mordantly funny, but also a bleak analysis of social and sexual relations, the film's great achievement is that it reflects real life in such a recognisable way as to make you ask: why aren't other films like this? One of the rare examples of a good book making an equally good film."
        ],
        [
         "33",
         "5586_8",
         "1",
         "Eva (Hedy Lamarr) has just got married with an older man and in the honeymoon, she realizes that her husband does not desire her. Her disappointment with the marriage and the privation of love, makes Eva returning to her father's home in a farm, leaving her husband. One afternoon, while bathing in a lake, her horse escapes with her clothes and an young worker retrieves and gives them back to Eva. They fall in love for each other and become lovers. Later, her husband misses her and tries to have Eva back home. Eva refuses, and fortune leads the trio to the same place, ending the affair in a tragic way. I have just watched \\\"Extase\\\" for the first time, and the first remark I have is relative to the horrible quality of the VHS released in Brazil by the Brazilian distributor Video Network: the movie has only 75 minutes running time, and it seems that it was used different reels of film. There are some parts totally damaged, and other parts very damaged. Therefore, the beauty of the images in not achieved by the Brazilian viewer, if he has a chance to find this rare VHS in a rental or for sale. The film is practically a silent movie, the story is very dated and has only a few lines. Consequently, the characters are badly developed. However, this movie is also very daring, with the exposure of Hedy Lamarr beautiful breasts and naked fat body for the present standards of beauty. Another fantastic point is the poetic and metaphoric used of flowers, symbolizing the intercourse between Eva and her lover. The way the director conducts the scenes to show the needs and privation of Eva is very clear. The non-conclusive end is also very unusual for a 1933 movie. I liked this movie, but I hope one day have a chance to see a 87 minutes restored version. My vote is eight.<br /><br />Title (Brazil): \\\"xtase\\\" (\\\"Ecstasy\\\")"
        ],
        [
         "34",
         "1119_1",
         "0",
         "Even if this film was allegedly a joke in response to critics it's still an awful film. If one is going to commit to that sort of thing at least make it a good joke.....first off, Jeroen Krabb is i guess the poor man's Gerard Depardieu.....naturally i hate Gerard Depardieu even though he was very funny in the 'Iron Mask' three musketeer one. Otherwise to me he is box office poison and Jeroen Krabb is worse than that. The poor man's box office poison....really that is not being fair to the economically disenfranchised. If the '4th Man' is supposed to be some sort of critique of the Bourgeoisie....what am i saying? it isn't. Let's just say hypothetically, if it was supposed to be, it wasn't sharp enough. Satire is a tricky thing....if it isn't sharp enough the viewer becomes the butt of the joke instead......i think that is what happened. The story just ends up as a bunch of miserable disgusting characters doing nothing that anyone would care about and not in an interesting way either.....(for a more interesting and worthwhile application see any Luis Bunuel film....very sharp satire)<br /><br />[potential spoiler alert]<br /><br />Really, the blow job in the cemetery that Jeroen Krabb's character works so so hard to attain.... do you even care? is it funny? since Mr. Voerhoven is supposed to be a good film maker i will give him the benefit of the doubt and assume it was some misanthropic joke that got out of control.....though i'm guessing he didn't cast Jeroen Krabb because he's the worst actor and every character he's played has been a pretentious bourgeois ass.... except he's incompetent at it. So it becomes like a weird caricature. Do you think Mr. Voerhoven did that on purpose? and Jeroen Krabb is the butt of the joke as well? I just don't see it...... So you understand the dilemma i'm faced with here right? It is the worst film ever because he's supposed to be a good director. So there is some kind of dupery involved. I knew 'Patch Adams' was horrible without even seeing it. Do not be duped by 'The 4th Man\\\"s deceptively alluring packaging or mr. Voerhoven's reputation as a good director etc. etc."
        ],
        [
         "35",
         "11241_1",
         "0",
         "If you are looking for eye candy, you may enjoy Sky Captain. Sky Captain is just a video game injected with live performers. The visials are nice and interesting to look at during the entire movie. Now, saying that, the visuals are the ONLY thing good in Sky Captain.<br /><br />After ten minutes, I knew I was watching one of the worse movies of all time. I was hoping this movie would get better, but it never achieved any degree of interest. After thirty minutes, the urge to walk out kept growing and growing. Now, I own over 2000 movies and have seen probably five times that number. Yet, this is only the second movie I felt like walking out of my entire life.<br /><br />Acting---there is none. The three main performers are pitiful. Jude Law (also in the other movie I wanted to walk out on) is just awful in the title role. I would rather sit through Ben Affleck in Gigli than watch Law again.<br /><br />Paltrow tries SO hard to be campy, that it backfires in her face. The last article I had read said that Paltrow is thinking of staying home and being a mother rather than acting. After this performance, I would applaud that decision.<br /><br />Story---Soap operas are better written. The story behind Sky Captain starts out bad and gets continually worse as it progresses.<br /><br />Directing---none. Everything was put into the special effects that story, acting and directing suffer greatly. Even \\\"the Phantom Menace\\\" had better acting and that is NOT saying a great deal.<br /><br />I would have to give this movie a \\\"0\\\" out of \\\"10\\\". Avoid paying theatre prices and wait until video release."
        ],
        [
         "36",
         "4005_10",
         "1",
         "Although at one point I thought this was going to turn into The Graduate, I have to say that The Mother does an excellent job of explaining the sexual desires of an older woman.<br /><br />I'm so glad this is a British film because Hollywood never would have done it, and even if they had, they would have ruined it by not taking the time to develop the characters.<br /><br />The story is revealed slowly and realistically. The acting is superb, the characters are believably flawed, and the dialogue is sensitive. I tried many times to predict what was going to happen, and I was always wrong, so I was very intrigued by the story.<br /><br />I highly recommend this movie. And I must confess, I'll forever look at my mom in a different light!"
        ],
        [
         "37",
         "6827_4",
         "0",
         "Dumb is as dumb does, in this thoroughly uninteresting, supposed black comedy. Essentially what starts out as Chris Klein trying to maintain a low profile, eventually morphs into an uninspired version of \\\"The Three Amigos\\\", only without any laughs. In order for black comedy to work, it must be outrageous, which \\\"Play Dead\\\" is not. In order for black comedy to work, it cannot be mean spirited, which \\\"Play Dead\\\" is. What \\\"Play Dead\\\" really is, is a town full of nut jobs. Fred Dunst does however do a pretty fair imitation of Billy Bob Thornton's character from \\\"A Simple Plan\\\", while Jake Busey does a pretty fair imitation of, well, Jake Busey. - MERK"
        ],
        [
         "38",
         "9011_9",
         "1",
         "I found this movie quite by accident, but am happy that I did. Kenneth Branagh's performance came close to stealing this movie from Helena Bonham Carter, but their strong chemistry together made for a much more enjoyable movie. This movie brought to mind the excellent movies that Branagh made with Emma Thompson. Carter's star turn here as a disabled young women seeking to complete herself was as good a performance as I have seen from a female lead in a long time. Portraying a disabled person is hard to pull off, but with basically only her eyes to show her pain about her situation in life, she made it so believable. If this movie had come out after the current wave of movies with beautiful women \\\"uglying\\\" themselves up for roles (Charlize Theron, Halle Berry), I fell sure Carter would have had strong consideration for an Oscar. If you run across this movie on cable late at night as I did, trust me, it is worth the lost sleep."
        ],
        [
         "39",
         "11885_1",
         "0",
         "I'll dispense with the usual comparisons to a certain legendary filmmaker known for his neurotic New Yorker persona, because quite frankly, to draw comparisons with bumbling loser Josh Kornbluth, is just an insult to any such director. I will also avoid mentioning the spot-on satire `Office Space' in the same breath as this celluloid catastrophe. I can, however, compare it to waking up during your own surgery  it's painful to watch and you wonder whether the surgeons really know what they're doing. Haiku Tunnel is the kind of film you wish they'd pulled the plug on in its early stages of production. It was cruel to let it live and as a result, audiences around the world are being made to suffer.<br /><br />The film's premise  if indeed it has one  is not even worth discussing, but for the sake of caution I will. Josh Kornbluth, a temp worker with severe commitment-phobia, is offered a permanent job. His main duty is to mail out 17 high priority letters for his boss. But ludicrously, he is unable to perform this simple task. My reaction? Big deal! That's not a story it's a passing thought at best - one that should've passed any self-respecting filmmaker by. <br /><br />The leading actor  if you can call him that  is a clumsy buffoon of a man, with chubby features, a receding, untamed hairline, and a series of facial expressions that range from cringe-making to plain disturbing. Where o where did the director find this schmuck? What's that you say he is the director? Oh, my mistake. Playing yourself in your own embarrassment of a screenplay is one thing, but I suspect that Mr Kornbluth isn't that convincing as a human being, let alone an actor. Rest assured, this is by no means an aimless character assassination, but never before have I been so riled up by an actor's on-screen presence! My frustration was further confounded by his incessant to-camera monologues in between scenes. I mean, as if the viewer needs an ounce of intelligence to comprehend this drivel, Kornbluth insults us further by `explaining' the action (first rule of filmmaking: `dramatize exposition' show, don't tell). Who does this guy think he is? He has no charisma, no charm, and judging by his Hawaiian shirts, no sense of style. His casting agent should be shot point blank!<br /><br />The supporting actors do nothing to relieve the intense boredom I felt, with but one exception. Patricia Scanlon puts in a very funny appearance as Helen the ex-secretary, who has been driven insane by her old boss, and makes harassing phone calls from her basement, while holding a flashlight under her face. This did make me chuckle to myself, but the moment soon passed and I was back to checking my watch for the remainder of the film.<br /><br />The film's title is also a misnomer. Haiku Tunnel has nothing to do with the ancient form of Japanese poetry. Don't be fooled into thinking this is an art house film because of its pretentious-sounding title or the fact that it only played in a handful of cinemas and made no money at the box office there's a very good reason for that!<br /><br />"
        ],
        [
         "40",
         "7897_8",
         "1",
         "At first sight this movie doesn't look like a particular great one. After all a Bette Davis movies with only 166 votes on IMDb and a rating of 6,5 must be a rather bad one. But the movie turned out to be a delightful and original surprise.<br /><br />You would at first expect that this is a normal average typical '30's movie with a formulaic love-story but the movie is surprisingly well constructed and has an unusual and original story, which also helps to make this movie a very pleasant one to watch.<br /><br />The story is carried by its two main characters played by Bette Davis and George Brent. Their helped by a cast of mostly amusing characters but the movie mainly involves just around them two. Their character are involved in a most unusual and clever written love-story that work humorous as well. It makes this movie a delightful little comedy to watch, that is perfectly entertaining.<br /><br />The movie is quite short (just over an hour long), which means that the story doesn't waste any time on needless plot lines, development and characters. It makes the movie also rather fast paced, which helps to make this movie a perfectly watchable one by todays standards as well. It does perhaps makes the movie a bit of a simple one at times but this never goes at the expense of its entertainment or fun.<br /><br />A delightful pleasant simple romantic-comedy that deserves to be seen by more!<br /><br />8/10"
        ],
        [
         "41",
         "4613_4",
         "0",
         "Well then, what is it?! I found Nicholson's character shallow and most unfortunately uninteresting. Angelica Huston's character drained my power. And Kathleen Turner is a filthy no good slut. It's not that I \\\"don't get it\\\". It's not that I don't think that some of the ideas could've lead to something more. This is a film with nothing but the notion that we're supposed to accept these ideas, and that's what the movie has going for it. That Nicholson falls for Turner is absurd, but then again, it is intended to be so. This however does not strike me as a.)funny, or b.)...even remotely interesting!!! This was a waste of my time, so don't let the hype get the best of you...it is a waste of your time! With all that being said, the opening church sequence is quite beautiful..."
        ],
        [
         "42",
         "12106_10",
         "1",
         "Antonio Margheriti's \\\"Danza Macabra\\\"/\\\"Castle of Blood\\\" is an eerie,atmospheric chiller that succeeds on all fronts.It looks absolutely beautiful in black & white and it has wonderfully creepy Gothic vibe.Alan Foster is an English journalist who pursues an interview with visiting American horror writer Edgar Allan Poe.Poe bets Foster that he can't spend one night in the abandoned mansion of Poe's friend,Thomas Blackwood.Accepting the wager,Foster is locked in the mansion and the horror begins!The film is extremely atmospheric and it scared the hell out of me.The crypt sequence is really eerie and the tension is almost unbearable.Barbara Steele looks incredibly beautiful as sinister specter Elisabeth Blackwood.\\\"Castle of Blood\\\" is easily one of the best Italian horror movies made in early 60's.A masterpiece!"
        ],
        [
         "43",
         "11427_1",
         "0",
         "I don't know who Sue Kramer, the director of this film is, but I have a strong suspicion that A) she is a lesbian and B) she somehow shamed everyone involved in this project to participate to prove they are not homophobic.<br /><br />I can imagine everyone thinking, \\\"My God, this is horrible. Not funny. Pedestrian. Totally lame.\\\" But keeping their mouths shut for fear they will be labeled anti-gay or they \\\"don't get\\\" the gay lifestyle. (This is probably why Kramer did NOT cast gay people to play gay people too.) Anyway, it's not even worth reviewing. The actors are all directed to play every scene completely over the top so there is no sincerity or believability in anything they do. It's full of clichs and there is nothing about this movie that is the least bit amusing - much less funny.<br /><br />I hated it and I'm not afraid to say so. Too bad the gutless people who gave Kramer the money to make this bomb weren't as unbiased in their judgment."
        ],
        [
         "44",
         "10135_2",
         "0",
         "I just watched this movie on Starz. Let me go through a few things i thought could have been improved; the acting, writing, directing, special effects, camera crew, sound, and lighting. It also seemed as though the writers had no idea anything that had to do with the movie. Apparently back in 2007, when the dollar was stronger you could buy a super advanced stealth bomber that could go completely invisible for $75 million. Now-a-days those things cost about $3 billion and they cant go invisible. Apparently you can fly from the US to the middle east in an hour. There was a completely random lesbian scene, which I didn't mind, but it seemed like a lame attempt to get more guys to see it. The camera would randomly zoom in on actors and skip to random scenes. Oh yeah, since its a Steven Segal movie, its predictable as hell. All in all I rank it right up there with Snakes on a Plane."
        ],
        [
         "45",
         "4221_8",
         "1",
         "I loved the episode but seems to me there should have been some quick reference to the secretary getting punished for effectively being an accomplice after the fact. While I like when a episode of Columbo has an unpredictable twist like this one, its resolution should be part of the conclusion of the episode, along with the uncovering of the murderer.<br /><br />The interplay between Peter Falk and Ruth Gordon is priceless. At one point, Gordon, playing a famous writer, makes some comment about being flattered by the famous Lt. Columbo, making a tongue-in-cheek allusion to the detective's real life fame as a crime-solver. This is one of the best of many great Columbo installments."
        ],
        [
         "46",
         "9983_3",
         "0",
         "This film is a massive Yawn proving that Americans haven't got the hang of farce. Even when it has already been written for them! The original film \\\"Hodet Over Vannet\\\" is a witty comedy of errors that I would rate 8/10. It isn't just about a linguistic translation, but certain absurd chains of events are skipped entirely, robbing the film of its original clever farcical nature and turning it into a cheap \\\"oops there go my trousers\\\" style of farce."
        ],
        [
         "47",
         "9788_9",
         "1",
         "I was at the same screenwriters conference and saw the movie. I thought the writer - Sue Smith - very clearly summarised what the film was about. However, the movie really didn't need explanation. I thought the themes were abundantly clear, and inspiring. A movie which deals with the the ability to dare, to face fear - especially fear passed down from parental figures - and overcome it and, in doing so, embrace life's possibilities, is a film to be treasured and savoured. I enjoyed it much more than the much-hyped 'Somersault.' I also think Mandy62 was a bit unkind to Hugo Weaving. As a bloke about his vintage, I should look so good! I agree that many Australian films have been lacklustre recently, but 'Peaches' delivers the goods. I'm glad I saw it."
        ],
        [
         "48",
         "7316_1",
         "0",
         "When I saw the previews for this movie, I didn't expect much to begin with - around a second rate teen horror movie. But wow, this movie was absolutely awful. And that's being generous.<br /><br />First of all, the casting for the movie was terrible. You feel no sympathy (or for that matter any morbid feeling) for the characters. The acting was so terrible that I was just simply waiting and hoping for the God-awful thing to end.<br /><br />Secondly, there are points in the movie that had absolutely no relation to the plot whatsoever. Can somebody please explain to me why the girlish-looking boy starts screaming \\\"PANCAKES!!!\\\" at the top of his lungs while going into Jackie Chan moves I've never seen before, and even further biting the guy who has the virus? Why does the father of the kid proceed to get angry with the virus-infected guy, and go on a redneck hunting spree to find him? I was left with a feeling of such confusion and utter disbelief that I literally said out loud, \\\"Where the hell did that come from?\\\"<br /><br />I just simply couldn't believe what I had seen. I really thought I had seen some bad movies, but I have to say that Cabin Fever tops them all. This movie made me want to puke and then puke again. Then blow my brains out.<br /><br />Please, save yourself an hour and a half and do something more productive. Watching grass grow, perhaps, is a proper alternative."
        ],
        [
         "49",
         "9897_10",
         "1",
         "Okay, sorry, but I loved this movie. I just love the whole 80's genre of these kind of movies, because you don't see many like this one anymore! I want to ask all of you people who say this movie is just a rip-off, or a cheesy imitation, what is it imitating? I've never seen another movie like this one, well, not horror anyway.<br /><br />Basically its about the popular group in school, who like to make everyones lives living hell, so they decided to pick on this nerdy boy named Marty. It turns fatal when he really gets hurt from one of their little pranks.<br /><br />So, its like 10 years later, and the group of friends who hurt Marty start getting High School reunion letters. But...they are the only ones receiving them! So they return back to the old school, and one by one get knocked off by.......Yeah you probably know what happens!<br /><br />The only part that disappointed me was the very end. It could have been left off, or thought out better.<br /><br />I think you should give it a try, and try not to be to critical!<br /><br />~*~CupidGrl~*~"
        ]
       ],
       "shape": {
        "columns": 3,
        "rows": 5000
       }
      },
      "text/html": [
       "<div>\n",
       "<style scoped>\n",
       "    .dataframe tbody tr th:only-of-type {\n",
       "        vertical-align: middle;\n",
       "    }\n",
       "\n",
       "    .dataframe tbody tr th {\n",
       "        vertical-align: top;\n",
       "    }\n",
       "\n",
       "    .dataframe thead th {\n",
       "        text-align: right;\n",
       "    }\n",
       "</style>\n",
       "<table border=\"1\" class=\"dataframe\">\n",
       "  <thead>\n",
       "    <tr style=\"text-align: right;\">\n",
       "      <th></th>\n",
       "      <th>id</th>\n",
       "      <th>sentiment</th>\n",
       "      <th>review</th>\n",
       "    </tr>\n",
       "  </thead>\n",
       "  <tbody>\n",
       "    <tr>\n",
       "      <th>0</th>\n",
       "      <td>5814_8</td>\n",
       "      <td>1</td>\n",
       "      <td>With all this stuff going down at the moment w...</td>\n",
       "    </tr>\n",
       "    <tr>\n",
       "      <th>1</th>\n",
       "      <td>2381_9</td>\n",
       "      <td>1</td>\n",
       "      <td>\\\"The Classic War of the Worlds\\\" by Timothy H...</td>\n",
       "    </tr>\n",
       "    <tr>\n",
       "      <th>2</th>\n",
       "      <td>7759_3</td>\n",
       "      <td>0</td>\n",
       "      <td>The film starts with a manager (Nicholas Bell)...</td>\n",
       "    </tr>\n",
       "    <tr>\n",
       "      <th>3</th>\n",
       "      <td>3630_4</td>\n",
       "      <td>0</td>\n",
       "      <td>It must be assumed that those who praised this...</td>\n",
       "    </tr>\n",
       "    <tr>\n",
       "      <th>4</th>\n",
       "      <td>9495_8</td>\n",
       "      <td>1</td>\n",
       "      <td>Superbly trashy and wondrously unpretentious 8...</td>\n",
       "    </tr>\n",
       "    <tr>\n",
       "      <th>...</th>\n",
       "      <td>...</td>\n",
       "      <td>...</td>\n",
       "      <td>...</td>\n",
       "    </tr>\n",
       "    <tr>\n",
       "      <th>4995</th>\n",
       "      <td>3720_2</td>\n",
       "      <td>0</td>\n",
       "      <td>Is this film a joke? Is it a comedy? Surely it...</td>\n",
       "    </tr>\n",
       "    <tr>\n",
       "      <th>4996</th>\n",
       "      <td>4229_10</td>\n",
       "      <td>1</td>\n",
       "      <td>Don't waste time reading my review. Go out and...</td>\n",
       "    </tr>\n",
       "    <tr>\n",
       "      <th>4997</th>\n",
       "      <td>8042_3</td>\n",
       "      <td>0</td>\n",
       "      <td>The secret is...this movie blows. Sorry, but i...</td>\n",
       "    </tr>\n",
       "    <tr>\n",
       "      <th>4998</th>\n",
       "      <td>9669_9</td>\n",
       "      <td>1</td>\n",
       "      <td>After reading the original play I thought it w...</td>\n",
       "    </tr>\n",
       "    <tr>\n",
       "      <th>4999</th>\n",
       "      <td>11216_7</td>\n",
       "      <td>1</td>\n",
       "      <td>The story is extremely unique.It's about these...</td>\n",
       "    </tr>\n",
       "  </tbody>\n",
       "</table>\n",
       "<p>5000 rows × 3 columns</p>\n",
       "</div>"
      ],
      "text/plain": [
       "           id  sentiment                                             review\n",
       "0      5814_8          1  With all this stuff going down at the moment w...\n",
       "1      2381_9          1  \\\"The Classic War of the Worlds\\\" by Timothy H...\n",
       "2      7759_3          0  The film starts with a manager (Nicholas Bell)...\n",
       "3      3630_4          0  It must be assumed that those who praised this...\n",
       "4      9495_8          1  Superbly trashy and wondrously unpretentious 8...\n",
       "...       ...        ...                                                ...\n",
       "4995   3720_2          0  Is this film a joke? Is it a comedy? Surely it...\n",
       "4996  4229_10          1  Don't waste time reading my review. Go out and...\n",
       "4997   8042_3          0  The secret is...this movie blows. Sorry, but i...\n",
       "4998   9669_9          1  After reading the original play I thought it w...\n",
       "4999  11216_7          1  The story is extremely unique.It's about these...\n",
       "\n",
       "[5000 rows x 3 columns]"
      ]
     },
     "execution_count": 2,
     "metadata": {},
     "output_type": "execute_result"
    }
   ],
   "source": []
  }
 ],
 "metadata": {
  "kernelspec": {
   "display_name": "dw4_py",
   "language": "python",
   "name": "python3"
  },
  "language_info": {
   "codemirror_mode": {
    "name": "ipython",
    "version": 3
   },
   "file_extension": ".py",
   "mimetype": "text/x-python",
   "name": "python",
   "nbconvert_exporter": "python",
   "pygments_lexer": "ipython3",
   "version": "3.12.3"
  }
 },
 "nbformat": 4,
 "nbformat_minor": 5
}
